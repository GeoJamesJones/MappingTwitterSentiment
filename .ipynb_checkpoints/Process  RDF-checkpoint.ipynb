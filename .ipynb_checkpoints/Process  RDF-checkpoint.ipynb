{
 "cells": [
  {
   "cell_type": "code",
   "execution_count": 70,
   "metadata": {
    "collapsed": true
   },
   "outputs": [],
   "source": [
    "import requests\n",
    "import rdflib\n",
    "import os\n",
    "\n",
    "docsPath = r'C:\\Users\\jame9353\\Documents\\GitHub\\RDFtoNeo4J\\Source Docs'"
   ]
  },
  {
   "cell_type": "code",
   "execution_count": 101,
   "metadata": {
    "collapsed": true
   },
   "outputs": [],
   "source": [
    "docs = []\n",
    "for root, dirs, files in os.walk(docsPath):\n",
    "    for f in files:\n",
    "        filePath = os.path.join(root, f)\n",
    "        #if filePath.endswith(\".docx\") or filePath.endswith(\".txt\"):\n",
    "        docs.append(filePath)"
   ]
  },
  {
   "cell_type": "code",
   "execution_count": 102,
   "metadata": {},
   "outputs": [
    {
     "name": "stdout",
     "output_type": "stream",
     "text": [
      "C:\\Users\\jame9353\\Documents\\GitHub\\RDFtoNeo4J\\Source Docs\\050316TF029.docx\n",
      "C:\\Users\\jame9353\\Documents\\GitHub\\RDFtoNeo4J\\Source Docs\\050316TF030.docx\n",
      "C:\\Users\\jame9353\\Documents\\GitHub\\RDFtoNeo4J\\Source Docs\\050316TF035.docx\n",
      "C:\\Users\\jame9353\\Documents\\GitHub\\RDFtoNeo4J\\Source Docs\\050316TF055.docx\n",
      "C:\\Users\\jame9353\\Documents\\GitHub\\RDFtoNeo4J\\Source Docs\\050416NA002.docx\n",
      "C:\\Users\\jame9353\\Documents\\GitHub\\RDFtoNeo4J\\Source Docs\\050416NA005.docx\n",
      "C:\\Users\\jame9353\\Documents\\GitHub\\RDFtoNeo4J\\Source Docs\\050416NA016.docx\n",
      "C:\\Users\\jame9353\\Documents\\GitHub\\RDFtoNeo4J\\Source Docs\\190200ZFEB13_SCTY_ATS3_ISAF_HELICOPTER_ATTACK_IN_KUNAR_UPSET_VILLAGERS.docx\n",
      "C:\\Users\\jame9353\\Documents\\GitHub\\RDFtoNeo4J\\Source Docs\\190205ZFEB13_SCTY_ATS3_ELDERS_IN_SAIDON_SUPPORT_ZANGABAD_VILLAGERS_FIGHT_AGAINST_TALIBAN.docx\n",
      "C:\\Users\\jame9353\\Documents\\GitHub\\RDFtoNeo4J\\Source Docs\\190210ZFEB13_SCTY_ATS3_VILLAGERS_CLAIM_GIROA_HIRED_A_TALIBAN_FIGHTER_TO_BE_AN_ALP.docx\n",
      "C:\\Users\\jame9353\\Documents\\GitHub\\RDFtoNeo4J\\Source Docs\\iir1.txt\n",
      "C:\\Users\\jame9353\\Documents\\GitHub\\RDFtoNeo4J\\Source Docs\\Intel Report BSS-Mahmoud-4.pdf\n",
      "C:\\Users\\jame9353\\Documents\\GitHub\\RDFtoNeo4J\\Source Docs\\Intel Report CIA-Mahmoud-2.pdf\n",
      "C:\\Users\\jame9353\\Documents\\GitHub\\RDFtoNeo4J\\Source Docs\\Intel Report Interpol-Mahmoud-6.pdf\n",
      "C:\\Users\\jame9353\\Documents\\GitHub\\RDFtoNeo4J\\Source Docs\\Intel Report ISI-Mahmoud-12.pdf\n",
      "C:\\Users\\jame9353\\Documents\\GitHub\\RDFtoNeo4J\\Source Docs\\Intel Report MIT-Mahmoud-10.pdf\n",
      "C:\\Users\\jame9353\\Documents\\GitHub\\RDFtoNeo4J\\Source Docs\\Maritime OPINTEL Report.pdf\n",
      "C:\\Users\\jame9353\\Documents\\GitHub\\RDFtoNeo4J\\Source Docs\\maritime_opintel_oct2014.txt\n",
      "C:\\Users\\jame9353\\Documents\\GitHub\\RDFtoNeo4J\\Source Docs\\RECCEXREP.txt\n",
      "C:\\Users\\jame9353\\Documents\\GitHub\\RDFtoNeo4J\\Source Docs\\SYNCOIN-1 COMBINED MSG SET FINAL.docx\n"
     ]
    }
   ],
   "source": [
    "for l in docs:\n",
    "    print(l)"
   ]
  },
  {
   "cell_type": "code",
   "execution_count": 103,
   "metadata": {},
   "outputs": [
    {
     "name": "stderr",
     "output_type": "stream",
     "text": [
      "C:\\Program Files\\ArcGIS\\Pro\\bin\\Python\\envs\\arcgispro-py3\\lib\\site-packages\\requests\\packages\\urllib3\\connectionpool.py:852: InsecureRequestWarning: Unverified HTTPS request is being made. Adding certificate verification is strongly advised. See: https://urllib3.readthedocs.io/en/latest/advanced-usage.html#ssl-warnings\n",
      "  InsecureRequestWarning)\n",
      "C:\\Program Files\\ArcGIS\\Pro\\bin\\Python\\envs\\arcgispro-py3\\lib\\site-packages\\requests\\packages\\urllib3\\connectionpool.py:852: InsecureRequestWarning: Unverified HTTPS request is being made. Adding certificate verification is strongly advised. See: https://urllib3.readthedocs.io/en/latest/advanced-usage.html#ssl-warnings\n",
      "  InsecureRequestWarning)\n",
      "C:\\Program Files\\ArcGIS\\Pro\\bin\\Python\\envs\\arcgispro-py3\\lib\\site-packages\\requests\\packages\\urllib3\\connectionpool.py:852: InsecureRequestWarning: Unverified HTTPS request is being made. Adding certificate verification is strongly advised. See: https://urllib3.readthedocs.io/en/latest/advanced-usage.html#ssl-warnings\n",
      "  InsecureRequestWarning)\n",
      "C:\\Program Files\\ArcGIS\\Pro\\bin\\Python\\envs\\arcgispro-py3\\lib\\site-packages\\requests\\packages\\urllib3\\connectionpool.py:852: InsecureRequestWarning: Unverified HTTPS request is being made. Adding certificate verification is strongly advised. See: https://urllib3.readthedocs.io/en/latest/advanced-usage.html#ssl-warnings\n",
      "  InsecureRequestWarning)\n",
      "C:\\Program Files\\ArcGIS\\Pro\\bin\\Python\\envs\\arcgispro-py3\\lib\\site-packages\\requests\\packages\\urllib3\\connectionpool.py:852: InsecureRequestWarning: Unverified HTTPS request is being made. Adding certificate verification is strongly advised. See: https://urllib3.readthedocs.io/en/latest/advanced-usage.html#ssl-warnings\n",
      "  InsecureRequestWarning)\n",
      "C:\\Program Files\\ArcGIS\\Pro\\bin\\Python\\envs\\arcgispro-py3\\lib\\site-packages\\requests\\packages\\urllib3\\connectionpool.py:852: InsecureRequestWarning: Unverified HTTPS request is being made. Adding certificate verification is strongly advised. See: https://urllib3.readthedocs.io/en/latest/advanced-usage.html#ssl-warnings\n",
      "  InsecureRequestWarning)\n",
      "C:\\Program Files\\ArcGIS\\Pro\\bin\\Python\\envs\\arcgispro-py3\\lib\\site-packages\\requests\\packages\\urllib3\\connectionpool.py:852: InsecureRequestWarning: Unverified HTTPS request is being made. Adding certificate verification is strongly advised. See: https://urllib3.readthedocs.io/en/latest/advanced-usage.html#ssl-warnings\n",
      "  InsecureRequestWarning)\n",
      "C:\\Program Files\\ArcGIS\\Pro\\bin\\Python\\envs\\arcgispro-py3\\lib\\site-packages\\requests\\packages\\urllib3\\connectionpool.py:852: InsecureRequestWarning: Unverified HTTPS request is being made. Adding certificate verification is strongly advised. See: https://urllib3.readthedocs.io/en/latest/advanced-usage.html#ssl-warnings\n",
      "  InsecureRequestWarning)\n",
      "C:\\Program Files\\ArcGIS\\Pro\\bin\\Python\\envs\\arcgispro-py3\\lib\\site-packages\\requests\\packages\\urllib3\\connectionpool.py:852: InsecureRequestWarning: Unverified HTTPS request is being made. Adding certificate verification is strongly advised. See: https://urllib3.readthedocs.io/en/latest/advanced-usage.html#ssl-warnings\n",
      "  InsecureRequestWarning)\n",
      "C:\\Program Files\\ArcGIS\\Pro\\bin\\Python\\envs\\arcgispro-py3\\lib\\site-packages\\requests\\packages\\urllib3\\connectionpool.py:852: InsecureRequestWarning: Unverified HTTPS request is being made. Adding certificate verification is strongly advised. See: https://urllib3.readthedocs.io/en/latest/advanced-usage.html#ssl-warnings\n",
      "  InsecureRequestWarning)\n",
      "C:\\Program Files\\ArcGIS\\Pro\\bin\\Python\\envs\\arcgispro-py3\\lib\\site-packages\\requests\\packages\\urllib3\\connectionpool.py:852: InsecureRequestWarning: Unverified HTTPS request is being made. Adding certificate verification is strongly advised. See: https://urllib3.readthedocs.io/en/latest/advanced-usage.html#ssl-warnings\n",
      "  InsecureRequestWarning)\n",
      "C:\\Program Files\\ArcGIS\\Pro\\bin\\Python\\envs\\arcgispro-py3\\lib\\site-packages\\requests\\packages\\urllib3\\connectionpool.py:852: InsecureRequestWarning: Unverified HTTPS request is being made. Adding certificate verification is strongly advised. See: https://urllib3.readthedocs.io/en/latest/advanced-usage.html#ssl-warnings\n",
      "  InsecureRequestWarning)\n",
      "C:\\Program Files\\ArcGIS\\Pro\\bin\\Python\\envs\\arcgispro-py3\\lib\\site-packages\\requests\\packages\\urllib3\\connectionpool.py:852: InsecureRequestWarning: Unverified HTTPS request is being made. Adding certificate verification is strongly advised. See: https://urllib3.readthedocs.io/en/latest/advanced-usage.html#ssl-warnings\n",
      "  InsecureRequestWarning)\n",
      "C:\\Program Files\\ArcGIS\\Pro\\bin\\Python\\envs\\arcgispro-py3\\lib\\site-packages\\requests\\packages\\urllib3\\connectionpool.py:852: InsecureRequestWarning: Unverified HTTPS request is being made. Adding certificate verification is strongly advised. See: https://urllib3.readthedocs.io/en/latest/advanced-usage.html#ssl-warnings\n",
      "  InsecureRequestWarning)\n",
      "C:\\Program Files\\ArcGIS\\Pro\\bin\\Python\\envs\\arcgispro-py3\\lib\\site-packages\\requests\\packages\\urllib3\\connectionpool.py:852: InsecureRequestWarning: Unverified HTTPS request is being made. Adding certificate verification is strongly advised. See: https://urllib3.readthedocs.io/en/latest/advanced-usage.html#ssl-warnings\n",
      "  InsecureRequestWarning)\n",
      "C:\\Program Files\\ArcGIS\\Pro\\bin\\Python\\envs\\arcgispro-py3\\lib\\site-packages\\requests\\packages\\urllib3\\connectionpool.py:852: InsecureRequestWarning: Unverified HTTPS request is being made. Adding certificate verification is strongly advised. See: https://urllib3.readthedocs.io/en/latest/advanced-usage.html#ssl-warnings\n",
      "  InsecureRequestWarning)\n",
      "C:\\Program Files\\ArcGIS\\Pro\\bin\\Python\\envs\\arcgispro-py3\\lib\\site-packages\\requests\\packages\\urllib3\\connectionpool.py:852: InsecureRequestWarning: Unverified HTTPS request is being made. Adding certificate verification is strongly advised. See: https://urllib3.readthedocs.io/en/latest/advanced-usage.html#ssl-warnings\n",
      "  InsecureRequestWarning)\n",
      "C:\\Program Files\\ArcGIS\\Pro\\bin\\Python\\envs\\arcgispro-py3\\lib\\site-packages\\requests\\packages\\urllib3\\connectionpool.py:852: InsecureRequestWarning: Unverified HTTPS request is being made. Adding certificate verification is strongly advised. See: https://urllib3.readthedocs.io/en/latest/advanced-usage.html#ssl-warnings\n",
      "  InsecureRequestWarning)\n",
      "C:\\Program Files\\ArcGIS\\Pro\\bin\\Python\\envs\\arcgispro-py3\\lib\\site-packages\\requests\\packages\\urllib3\\connectionpool.py:852: InsecureRequestWarning: Unverified HTTPS request is being made. Adding certificate verification is strongly advised. See: https://urllib3.readthedocs.io/en/latest/advanced-usage.html#ssl-warnings\n",
      "  InsecureRequestWarning)\n",
      "C:\\Program Files\\ArcGIS\\Pro\\bin\\Python\\envs\\arcgispro-py3\\lib\\site-packages\\requests\\packages\\urllib3\\connectionpool.py:852: InsecureRequestWarning: Unverified HTTPS request is being made. Adding certificate verification is strongly advised. See: https://urllib3.readthedocs.io/en/latest/advanced-usage.html#ssl-warnings\n",
      "  InsecureRequestWarning)\n"
     ]
    }
   ],
   "source": [
    "headers = {\n",
    "    'Content-Type': 'application/msword',\n",
    "    'accept': 'application/rdf+xml',\n",
    "    'Authorization': 'netowl ff5e6185-5d63-459b-9765-4ebb905affc8',\n",
    "}\n",
    "\n",
    "params = (\n",
    "    ('language', 'english'),\n",
    ")\n",
    "\n",
    "for d in docs:\n",
    "    data = open(d, 'rb').read()\n",
    "    response = requests.post('https://api.netowl.com/api/v2/_process', headers=headers, params=params, data=data, verify=False)\n",
    "    r = response.text\n",
    "    outPath = r'C:\\Data\\RDF'\n",
    "    fileName = os.path.split(d)[1]\n",
    "    outFile = os.path.join(outPath, fileName + \".rdf\")\n",
    "    #print(len(r))\n",
    "    #print(outFile)\n",
    "    open(outFile, \"w\", encoding=\"utf-8\").write(r)"
   ]
  },
  {
   "cell_type": "code",
   "execution_count": 84,
   "metadata": {},
   "outputs": [
    {
     "data": {
      "text/plain": [
       "618223"
      ]
     },
     "execution_count": 84,
     "metadata": {},
     "output_type": "execute_result"
    }
   ],
   "source": [
    "def netowlCurl(inFile, outPath, outExtension):\n",
    "    headers = {\n",
    "    'accept': 'application/rdf+xml',\n",
    "    'Authorization': 'netowl ff5e6185-5d63-459b-9765-4ebb905affc8',\n",
    "    }\n",
    "    \n",
    "    if inFile.endswith(\".txt\"):\n",
    "        headers['Content-Type'] = 'application/text'\n",
    "    elif inFile.endswith(\".pdf\"):\n",
    "        headers['Content-Type'] = 'application/pdf'\n",
    "    elif inFile.endswith(\".docx\"):\n",
    "        headers['Content-Type'] = 'application/msword'\n",
    "    \n",
    "    params = (\n",
    "        ('language', 'english'),\n",
    "    )\n",
    "    \n",
    "    data = open(inFile, 'rb').read()\n",
    "    response = requests.post('https://api.netowl.com/api/v2/_process', headers=headers, params=params, data=data, verify=False)\n",
    "    r = response.text\n",
    "    outPath = r'C:\\Data\\RDF'\n",
    "    fileName = os.path.split(d)[1]\n",
    "    outFile = os.path.join(outPath, fileName + \".rdf\")\n",
    "    #print(len(r))\n",
    "    #print(outFile)\n",
    "    open(outFile, \"w\", encoding=\"utf-8\").write(r)"
   ]
  },
  {
   "cell_type": "code",
   "execution_count": 3,
   "metadata": {
    "collapsed": true
   },
   "outputs": [],
   "source": [
    "headers = {\n",
    "    'Content-Type': 'application/msword',\n",
    "    'accept': 'application/rdf+xml',\n",
    "    'Authorization': 'netowl ff5e6185-5d63-459b-9765-4ebb905affc8',\n",
    "}\n",
    "\n",
    "params = (\n",
    "    ('language', 'english'),\n",
    ")"
   ]
  },
  {
   "cell_type": "code",
   "execution_count": 4,
   "metadata": {},
   "outputs": [
    {
     "name": "stdout",
     "output_type": "stream",
     "text": [
      "{'Content-Type': 'application/text', 'accept': 'application/rdf+xml', 'Authorization': 'netowl ff5e6185-5d63-459b-9765-4ebb905affc8'}\n"
     ]
    }
   ],
   "source": [
    "headers['Content-Type'] = 'application/text'\n",
    "print(headers)"
   ]
  },
  {
   "cell_type": "code",
   "execution_count": null,
   "metadata": {
    "collapsed": true
   },
   "outputs": [],
   "source": []
  }
 ],
 "metadata": {
  "kernelspec": {
   "display_name": "Python 3",
   "language": "python",
   "name": "python3"
  },
  "language_info": {
   "codemirror_mode": {
    "name": "ipython",
    "version": 3
   },
   "file_extension": ".py",
   "mimetype": "text/x-python",
   "name": "python",
   "nbconvert_exporter": "python",
   "pygments_lexer": "ipython3",
   "version": "3.6.2"
  }
 },
 "nbformat": 4,
 "nbformat_minor": 2
}
