{
 "cells": [
  {
   "cell_type": "code",
   "execution_count": null,
   "metadata": {
    "slideshow": {
     "slide_type": "skip"
    }
   },
   "outputs": [],
   "source": [
    "##import necessary modules\n",
    "\n",
    "%matplotlib inline\n",
    "\n",
    "import os\n",
    "import csv\n",
    "import json\n",
    "import rdflib\n",
    "import arcpy\n",
    "import glob\n",
    "import requests\n",
    "import visJS2jupyter.visJS_module\n",
    "import zipfile\n",
    "import matplotlib.pyplot as plt\n",
    "import networkx as nx\n",
    "import pandas as pd\n",
    "\n",
    "from rdflib import Graph\n",
    "from gastrodon import LocalEndpoint, one, QName\n",
    "from arcgis.gis import GIS\n",
    "\n",
    "##Variables\n",
    "\n",
    "#sourcePath = r'C:\\Users\\jame9353\\Box Sync\\Data\\NetOwl\\esri_all_out2'\n",
    "docsPath = r'C:\\Users\\jame9353\\Documents\\GitHub\\RDFtoNeo4J\\Demo\\Sample Documents'\n",
    "rdfOutDir = r'C:\\Users\\jame9353\\Documents\\GitHub\\RDFtoNeo4J\\Demo\\Data'\n",
    "rdfOutExt = \".rdf\"\n",
    "fileOutDir = r'C:\\Users\\jame9353\\Documents\\GitHub\\RDFtoNeo4J\\Demo\\outData'\n",
    "\n",
    "#Makes a connection to ArcGIS Online\n",
    "gis = GIS(\"https://esrifederal.maps.arcgis.com\", client_id = \"Sama2eyhY8UFPwQb\")"
   ]
  },
  {
   "cell_type": "code",
   "execution_count": null,
   "metadata": {
    "slideshow": {
     "slide_type": "skip"
    }
   },
   "outputs": [],
   "source": [
    "#Defines a function that will pass documents derived from the list\n",
    "# above to the NetOwl API.  \n",
    "#Function checks the type of document and makes necessary adjustment \n",
    "# to the POST command.\n",
    "#Function has three inputs:\n",
    "#    1.  inFile:  This is the file that will be passed to the NetOwl API\n",
    "#    2.  outPath: Path where the output file will be saved\n",
    "#    3.  outExtension:  the file type that will be saved (RDF, etc..)\n",
    "\n",
    "def netowlCurl(inFile, outPath, outExtension):\n",
    "    headers = {\n",
    "    'accept': 'application/rdf+xml',\n",
    "    'Authorization': 'netowl ff5e6185-5d63-459b-9765-4ebb905affc8',\n",
    "    }\n",
    "    \n",
    "    if inFile.endswith(\".txt\"):\n",
    "        headers['Content-Type'] = 'text/plain'\n",
    "        print(\"Document is a text file...\")\n",
    "    elif inFile.endswith(\".html\") or inFile.endswith(\".htm\"):\n",
    "        headers['Content-Type'] = 'text/html'\n",
    "        print(\"Document is a PDF...\")\n",
    "    elif inFile.endswith(\".pdf\"):\n",
    "        headers['Content-Type'] = 'application/pdf'\n",
    "        print(\"Document is a PDF...\")\n",
    "    elif inFile.endswith(\".docx\"):\n",
    "        headers['Content-Type'] = 'application/msword'\n",
    "        print(\"Document is a Word Document...\")\n",
    "    \n",
    "    params = (\n",
    "        ('language', 'english'),\n",
    "    )\n",
    "    \n",
    "    data = open(inFile, 'rb').read()\n",
    "    response = requests.post('https://api.netowl.com/api/v2/_process', headers=headers, params=params, data=data, verify=False)\n",
    "    r = response.text\n",
    "    outPath = outPath\n",
    "    fileName = os.path.split(d)[1]\n",
    "    if os.path.exists(outPath) == False:\n",
    "        os.mkdir(outPath, mode=0o777,)\n",
    "    outFile = os.path.join(outPath, fileName + outExtension)\n",
    "    #print(len(r))\n",
    "    #print(outFile)\n",
    "    open(outFile, \"w\", encoding=\"utf-8\").write(r)"
   ]
  },
  {
   "cell_type": "code",
   "execution_count": null,
   "metadata": {
    "slideshow": {
     "slide_type": "skip"
    }
   },
   "outputs": [],
   "source": [
    "#Walks through the docsPath, identifying files, and appends them to a list.\n",
    "docs = []\n",
    "for root, dirs, files in os.walk(docsPath):\n",
    "    for f in files:\n",
    "        filePath = os.path.join(root, f)\n",
    "        docs.append(filePath)\n",
    "        \n",
    "#Iterates though the docs list created previously and \n",
    "# runs the function for each of the documents found. \n",
    "#Passes the function a document derived from the list,\n",
    "# and two variables created in a previous step. \n",
    "\n",
    "for d in docs:\n",
    "    netowlCurl(d, rdfOutDir, rdfOutExt)\n",
    "\n",
    "#Creates a Graph Object that will store all the result of a parse operation \n",
    "# in the next step. \n",
    "g = Graph()\n",
    "\n",
    "#Walks through output path from the netowlCurl function and parses all RDF/XML Documents\n",
    "for root, dir, files in os.walk(rdfOutDir):\n",
    "    for file in files:\n",
    "        if file.endswith('.rdf'):\n",
    "            filePath = os.path.join(root, file)\n",
    "            print(\"Parsing \" + file + \"...\")\n",
    "            try:\n",
    "                g.parse(filePath, format='xml')\n",
    "            except Exception as ex:\n",
    "                print(ex)\n",
    "                \n",
    "#Create Local SPARQL Endpoint on graph created in previous step\n",
    "e = LocalEndpoint(g)"
   ]
  },
  {
   "cell_type": "code",
   "execution_count": null,
   "metadata": {},
   "outputs": [],
   "source": [
    "len(g)"
   ]
  },
  {
   "cell_type": "code",
   "execution_count": null,
   "metadata": {},
   "outputs": [],
   "source": [
    "#Uses the SPARQL endpoint to query all of the relationship types and returns the top 10\n",
    "triplesSel=e.select(\"\"\"\n",
    "   SELECT ?s ?p ?o ?label ?type{\n",
    "      ?s ?p ?o .\n",
    "      ?s rdfs:label ?label .\n",
    "      ?s rdf:type ?type .\n",
    "    }\n",
    "\"\"\")\n",
    "tripleList = os.path.join(fileOutDir, 'triples.csv')\n",
    "triplesSel.to_csv(tripleList, sep=',', encoding='utf-8')\n",
    "df = pd.read_csv(tripleList)"
   ]
  },
  {
   "cell_type": "code",
   "execution_count": null,
   "metadata": {},
   "outputs": [],
   "source": []
  },
  {
   "cell_type": "code",
   "execution_count": null,
   "metadata": {},
   "outputs": [],
   "source": [
    "#Uses the SPARQL endpoint to query all of the relationship types and returns the top 10\n",
    "properties=e.select(\"\"\"\n",
    "   SELECT ?p ?type(COUNT(*) AS ?cnt) {\n",
    "      ?s ?p ?o .\n",
    "      ?s rdf:type ?type . \n",
    "   } GROUP BY ?type ORDER BY DESC(?cnt)\n",
    "\"\"\")\n",
    "properties.head(10)\n",
    "    \n",
    "#Writes the full relationship types data frame to a CSV document\n",
    "file_name = os.path.join(fileOutDir, 'predicates.csv') \n",
    "properties.to_csv(file_name, sep=',', encoding='utf-8')"
   ]
  },
  {
   "cell_type": "code",
   "execution_count": null,
   "metadata": {
    "slideshow": {
     "slide_type": "slide"
    }
   },
   "outputs": [],
   "source": [
    "#Graphs the top 10 relationship types\n",
    "with plt.xkcd():\n",
    "    properties.head(10)[\"cnt\"].plot.pie(figsize=(6,6)).set_ylabel('')"
   ]
  },
  {
   "cell_type": "code",
   "execution_count": null,
   "metadata": {
    "scrolled": true,
    "slideshow": {
     "slide_type": "subslide"
    }
   },
   "outputs": [],
   "source": [
    "#SPARQL query to identify various entity types inside of the graph\n",
    "pd.set_option(\"display.width\",150)\n",
    "pd.set_option(\"display.max_colwidth\",150)\n",
    "sparql=e.select(\"\"\"\n",
    "   SELECT ?s ?o ?label ?type{\n",
    "      ?s netowl:Entity.Person..name ?o .\n",
    "      ?s rdfs:label ?label .\n",
    "      ?s rdf:type ?type .\n",
    "    }\n",
    "\"\"\")\n",
    "sparql.set_index(\"label\")"
   ]
  },
  {
   "cell_type": "code",
   "execution_count": null,
   "metadata": {
    "slideshow": {
     "slide_type": "skip"
    }
   },
   "outputs": [],
   "source": [
    "#Queries the SPARQL endpoint for the various addresses located in the documents\n",
    "address = df[df['p'].str.contains('Place')]\n",
    "\n",
    "#Geocodes the addresses and adds them to the map widget as a feature collection\n",
    "locations = gis.content.import_data(address, {\"Address\" : \"label\"})\n",
    "\n",
    "#Creates a hosted feature service from the feature \n",
    "# collection created in the previous step\n",
    "loc_properties = {\n",
    "    \"title\":\"EarlyBird_Articles\",\n",
    "    \"text\": json.dumps({\"featureCollection\": {\"layers\": [dict(locations.layer)]}}),\n",
    "    \"type\":\"Feature Collection\"}\n",
    "loc = gis.content.add(loc_properties)"
   ]
  },
  {
   "cell_type": "code",
   "execution_count": null,
   "metadata": {
    "slideshow": {
     "slide_type": "slide"
    }
   },
   "outputs": [],
   "source": [
    "map = gis.map()\n",
    "map"
   ]
  },
  {
   "cell_type": "code",
   "execution_count": null,
   "metadata": {
    "slideshow": {
     "slide_type": "fragment"
    }
   },
   "outputs": [],
   "source": [
    "map.add_layer(locations)"
   ]
  },
  {
   "cell_type": "code",
   "execution_count": null,
   "metadata": {
    "slideshow": {
     "slide_type": "skip"
    }
   },
   "outputs": [],
   "source": [
    "nxG = nx.Graph()\n",
    "\n",
    "#Queries the SPARQL endpoint and generates a list of the edges to be used in the Graph\n",
    "edgeGraph=e.select(\"\"\"\n",
    "   SELECT ?labelS ?labelO ?p ?label ?type{\n",
    "      ?s ?p ?o .\n",
    "      ?s rdfs:label ?labelS .\n",
    "      ?o rdfs:label ?labelO .\n",
    "      ?s rdf:type ?type .\n",
    "    }\n",
    "\"\"\")\n",
    "\n",
    "#Adds edges to NetworkX Graph\n",
    "for i, elrow in edgeGraph.iterrows():\n",
    "    nxG.add_edge(elrow[0], elrow[1], typeDict=elrow[1:].to_dict())\n",
    "    \n",
    "nodes = list(nxG.nodes()) # must cast to list to maintain compatibility between nx 1.11 and 2.0\n",
    "edges = list(nxG.edges()) \n",
    "\n",
    "pos = nx.spring_layout(nxG)\n",
    "\n",
    "nodes_dict = [{\"id\":n,\n",
    "              \"x\":pos[n][0]*1000,\n",
    "              \"y\":pos[n][1]*1000} for n in nodes]\n",
    "\n",
    "node_map = dict(zip(nodes,range(len(nodes))))\n",
    "\n",
    "edges_dict = [{\"source\":node_map[edges[i][0]], \"target\":node_map[edges[i][1]], \n",
    "              \"title\":'test'} for i in range(len(edges))]"
   ]
  },
  {
   "cell_type": "code",
   "execution_count": null,
   "metadata": {
    "slideshow": {
     "slide_type": "slide"
    }
   },
   "outputs": [],
   "source": [
    "visJS2jupyter.visJS_module.visjs_network(nodes_dict,edges_dict)"
   ]
  },
  {
   "cell_type": "code",
   "execution_count": null,
   "metadata": {},
   "outputs": [],
   "source": [
    "import nxviz as nv"
   ]
  },
  {
   "cell_type": "code",
   "execution_count": null,
   "metadata": {},
   "outputs": [],
   "source": [
    "mp = nv.MatrixPlot(nxG)\n",
    "mp.draw() "
   ]
  },
  {
   "cell_type": "code",
   "execution_count": null,
   "metadata": {},
   "outputs": [],
   "source": [
    "ap = nv.ArcPlot(nxG)\n",
    "ap.draw() "
   ]
  },
  {
   "cell_type": "code",
   "execution_count": null,
   "metadata": {},
   "outputs": [],
   "source": [
    "cp = nv.CircosPlot(nxG)\n",
    "cp.draw() "
   ]
  },
  {
   "cell_type": "code",
   "execution_count": null,
   "metadata": {},
   "outputs": [],
   "source": [
    "peopleGraph = nx.Graph()\n",
    "\n",
    "peopleQuery=e.select(\"\"\"\n",
    "   SELECT ?label ?s ?o{\n",
    "      ?s netowl:Entity.Person..name ?o .\n",
    "      ?s rdfs:label ?label .\n",
    "    }\n",
    "\"\"\")\n",
    "peopleQuery.set_index(\"label\")\n",
    "\n",
    "for i, elrow in peopleQuery.iterrows():\n",
    "    peopleGraph.add_edge(elrow[0], elrow[1], typeDict=elrow[1:].to_dict())\n",
    "    \n",
    "nodes = list(peopleGraph.nodes()) # must cast to list to maintain compatibility between nx 1.11 and 2.0\n",
    "edges = list(peopleGraph.edges()) \n",
    "\n",
    "pos = nx.spring_layout(peopleGraph)\n",
    "\n",
    "nodes_dict = [{\"id\":n,\n",
    "              \"x\":pos[n][0]*1000,\n",
    "              \"y\":pos[n][1]*1000} for n in nodes]\n",
    "\n",
    "node_map = dict(zip(nodes,range(len(nodes))))\n",
    "\n",
    "edges_dict = [{\"source\":node_map[edges[i][0]], \"target\":node_map[edges[i][1]], \n",
    "              \"title\":'test'} for i in range(len(edges))]"
   ]
  },
  {
   "cell_type": "code",
   "execution_count": null,
   "metadata": {},
   "outputs": [],
   "source": [
    "peopleQuery"
   ]
  },
  {
   "cell_type": "code",
   "execution_count": null,
   "metadata": {},
   "outputs": [],
   "source": [
    "len(peopleGraph)"
   ]
  },
  {
   "cell_type": "code",
   "execution_count": null,
   "metadata": {},
   "outputs": [],
   "source": [
    "pcp = nv.CircosPlot(peopleGraph)\n",
    "pcp.draw() "
   ]
  },
  {
   "cell_type": "code",
   "execution_count": null,
   "metadata": {},
   "outputs": [],
   "source": [
    "#Queries the SPARQL endpoint and generates a list of the edges to be used in the Graph\n",
    "testEdgeGraph=e.select(\"\"\"\n",
    "   SELECT ?labelS ?labelO ?p ?label ?type{\n",
    "      ?s ?p ?o .\n",
    "      ?s rdfs:label ?labelS .\n",
    "      ?o rdfs:label ?labelO .\n",
    "      ?s rdf:type ?type .\n",
    "    }\n",
    "\"\"\")"
   ]
  },
  {
   "cell_type": "code",
   "execution_count": null,
   "metadata": {},
   "outputs": [],
   "source": [
    "testEdgeGraph"
   ]
  },
  {
   "cell_type": "code",
   "execution_count": null,
   "metadata": {},
   "outputs": [],
   "source": []
  }
 ],
 "metadata": {
  "celltoolbar": "Slideshow",
  "kernelspec": {
   "display_name": "Python 3",
   "language": "python",
   "name": "python3"
  },
  "language_info": {
   "codemirror_mode": {
    "name": "ipython",
    "version": 3
   },
   "file_extension": ".py",
   "mimetype": "text/x-python",
   "name": "python",
   "nbconvert_exporter": "python",
   "pygments_lexer": "ipython3",
   "version": "3.6.2"
  }
 },
 "nbformat": 4,
 "nbformat_minor": 2
}
