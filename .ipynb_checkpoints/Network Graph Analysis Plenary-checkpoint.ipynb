{
 "cells": [
  {
   "cell_type": "code",
   "execution_count": 1,
   "metadata": {
    "scrolled": false
   },
   "outputs": [
    {
     "name": "stdout",
     "output_type": "stream",
     "text": [
      "Please sign in to your GIS and paste the code that is obtained below.\n",
      "If a web browser does not automatically open, please navigate to the URL below yourself instead.\n",
      "Opening web browser to navigate to: https://esrifederal.maps.arcgis.com/sharing/rest/oauth2/authorize?client_id=Sama2eyhY8UFPwQb&response_type=code&expiration=-1&redirect_uri=urn%3Aietf%3Awg%3Aoauth%3A2.0%3Aoob\n",
      "Enter code obtained on signing in using SAML: ········\n",
      "Please sign in to your GIS and paste the code that is obtained below.\n",
      "If a web browser does not automatically open, please navigate to the URL below yourself instead.\n",
      "Opening web browser to navigate to: https://esrifederal.maps.arcgis.com/sharing/rest/oauth2/authorize?client_id=Sama2eyhY8UFPwQb&response_type=code&expiration=-1&redirect_uri=urn%3Aietf%3Awg%3Aoauth%3A2.0%3Aoob\n",
      "Enter code obtained on signing in using SAML: ········\n"
     ]
    }
   ],
   "source": [
    "import csv\n",
    "import os\n",
    "import seaborn\n",
    "import visJS2jupyter.visJS_module\n",
    "import networkx as nx\n",
    "import pandas as pd\n",
    "from operator import itemgetter\n",
    "from arcgis.gis import GIS\n",
    "import matplotlib.pyplot as plt\n",
    "\n",
    "\n",
    "gis = GIS(\"https://esrifederal.maps.arcgis.com\", client_id = \"Sama2eyhY8UFPwQb\")"
   ]
  },
  {
   "cell_type": "code",
   "execution_count": 2,
   "metadata": {
    "scrolled": false
   },
   "outputs": [],
   "source": [
    "docsPath = r'C:\\Users\\jame9353\\Documents\\ArcGIS\\Projects\\Skype Calls\\Tables'\n",
    "skypeData = 'Skype_Data.csv'\n",
    "officeCSV = 'Esri_OfficeLocations.csv'\n",
    "ipCSV = 'IP_Ranges.csv'\n",
    "\n",
    "skypeLoc = os.path.join(docsPath, skypeData)\n",
    "officeLocs = os.path.join(docsPath, officeCSV)\n",
    "ipRanges = os.path.join(docsPath, ipCSV)\n",
    "df = pd.read_csv(skypeLoc)\n",
    "officeDF = pd.read_csv(officeLocs)\n",
    "ipDF = pd.read_csv(ipRanges)"
   ]
  },
  {
   "cell_type": "markdown",
   "metadata": {},
   "source": [
    "# Office Locations by Bandwidth"
   ]
  },
  {
   "cell_type": "code",
   "execution_count": 4,
   "metadata": {},
   "outputs": [
    {
     "data": {
      "application/vnd.jupyter.widget-view+json": {
       "model_id": "e7b279e5bd6c4e47a8f65d90b49d721a"
      }
     },
     "metadata": {},
     "output_type": "display_data"
    }
   ],
   "source": [
    "map = gis.map(\"California\", zoomlevel=4)\n",
    "map.basemap = 'gray'\n",
    "map"
   ]
  },
  {
   "cell_type": "code",
   "execution_count": null,
   "metadata": {},
   "outputs": [],
   "source": [
    "officeLyr = gis.content.import_data(officeDF)\n",
    "map.add_layer(officeLyr, {\"renderer\":\"ClassedSizeRenderer\", \"field_name\":\"Internet_S\"})"
   ]
  },
  {
   "cell_type": "markdown",
   "metadata": {},
   "source": [
    "# Call Statistics and Office Interconnectivity"
   ]
  },
  {
   "cell_type": "code",
   "execution_count": null,
   "metadata": {
    "scrolled": false
   },
   "outputs": [],
   "source": [
    "dfIP = pd.merge(df, ipDF, left_on = 'caller_sub', right_on = 'Range')\n",
    "callees = dfIP[['Office', 'user1_Department','user2_Department', 'duration__']]\n",
    "calleesGroup = callees.groupby(['user1_Department'])\n",
    "callTotals = calleesGroup.sum()\n",
    "callTotalSort = callTotals.sort_values(by=['duration__'], ascending=False).head(15)\n",
    "\n",
    "officeGroup = callees.groupby(['Office'])\n",
    "officeTotals = officeGroup.sum()\n",
    "officeTotalSort = officeTotals.sort_values(by=['duration__'], ascending=False)\n",
    "officeTotalList = []\n",
    "columns = ['OfficeCode', 'Call_Duration_Sum']\n",
    "\n",
    "for i in officeTotalSort.index:\n",
    "    iRow = []\n",
    "    iRow.append(i)\n",
    "    iRow.append(officeTotalSort.loc[i][0])\n",
    "    officeTotalList.append(iRow)\n",
    "    \n",
    "officeTotalDF = pd.DataFrame(officeTotalList, columns=columns)\n",
    "\n",
    "#Display a bar chart that shows total call duration per department\n",
    "callTotalPlt = callTotalSort.plot.barh(legend=None, title=\"Total Call Volume per Office\",figsize=(15,10))\n",
    "callTotalPlt.set_xlabel(\"Calling Office\")\n",
    "callTotalPlt.set_ylabel(\"Total Call Duration (seconds)\")"
   ]
  },
  {
   "cell_type": "code",
   "execution_count": null,
   "metadata": {},
   "outputs": [],
   "source": [
    "map1 = gis.map()\n",
    "map1.basemap = 'gray'\n",
    "map1"
   ]
  },
  {
   "cell_type": "code",
   "execution_count": null,
   "metadata": {},
   "outputs": [],
   "source": [
    "officeCallLocs = pd.merge(officeTotalDF, officeDF, left_on = 'OfficeCode', right_on = 'OfficeCode')\n",
    "calleeIP = pd.merge(df, ipDF, left_on = 'callee_sub', right_on = 'Range')\n",
    "callee = calleeIP[['Office', 'user1_Department','user2_Department', 'duration__']]\n",
    "officeDurLyr = gis.content.import_data(officeCallLocs)\n",
    "\n",
    "toOfficeGroup = callee.groupby(['Office'])\n",
    "toOfficeTotals = toOfficeGroup.sum()\n",
    "toOfficeTotalSort = toOfficeTotals.sort_values(by=['duration__'], ascending=False)\n",
    "toOfficeTotalSort\n",
    "\n",
    "toOfficeTotalList = []\n",
    "columns = ['fromOfficeCode', 'toOfficeCode', 'Call_Duration_Sum']\n",
    "\n",
    "for i in toOfficeTotalSort.index:\n",
    "    iRow = []\n",
    "    iRow.append(i[0])\n",
    "    iRow.append(i[1])\n",
    "    iRow.append(toOfficeTotalSort.loc[i][0])\n",
    "    toOfficeTotalList.append(iRow)\n",
    "    \n",
    "toOfficeTotalDF = pd.DataFrame(toOfficeTotalList, columns=columns)\n",
    "toLocs = pd.merge(toOfficeTotalDF, officeDF, left_on = 'toOfficeCode', right_on = 'OfficeCode')\n",
    "items = gis.content.search(\"Office Call Data\", item_type='feature service')[0]\n",
    "\n",
    "map1.add_layer(items)\n",
    "map1.add_layer(officeDurLyr, { \"renderer\":\"ClassedSizeRenderer\", \"field_name\":\"Call_Duration_Sum\" })"
   ]
  },
  {
   "cell_type": "markdown",
   "metadata": {},
   "source": [
    "# Examining the National Government Team"
   ]
  },
  {
   "cell_type": "code",
   "execution_count": null,
   "metadata": {},
   "outputs": [],
   "source": [
    "## Locations of National Government Team Members base on Call Records\n",
    "dept1 = df['user1_Department'] == 'National Govt'\n",
    "dept2 = df['user2_Department'] == 'National Govt'\n",
    "internal = df['internal'] > 0\n",
    "natgovDF = df[dept1 & internal]\n",
    "natgovCall = df[dept2 & internal]\n",
    "#Where the National Govt Team is located\n",
    "ngIP = pd.merge(natgovDF, ipDF, left_on = 'caller_sub', right_on = 'Range')\n",
    "ngLoc = pd.merge(ngIP, officeDF, left_on = 'Office', right_on = 'OfficeCode')\n",
    "ngLyr = gis.content.import_data(ngLoc)\n",
    "# Who the National Govt Team is calling\n",
    "ngcIP = pd.merge(natgovCall, ipDF, left_on = 'callee_sub', right_on = 'Range')\n",
    "ngcLoc = pd.merge(ngcIP, officeDF, left_on = 'Office', right_on = 'OfficeCode')\n",
    "ngcLyr = gis.content.import_data(ngLoc)\n",
    "\n",
    "map4 = gis.map(\"California\", zoomlevel=4)\n",
    "map4.basemap = 'gray'\n",
    "map4"
   ]
  },
  {
   "cell_type": "code",
   "execution_count": null,
   "metadata": {},
   "outputs": [],
   "source": [
    "map4.add_layer(ngLyr)\n",
    "map4.add_layer(ngcLyr)"
   ]
  },
  {
   "cell_type": "markdown",
   "metadata": {},
   "source": [
    "## Analyzing the Target Network"
   ]
  },
  {
   "cell_type": "code",
   "execution_count": null,
   "metadata": {
    "scrolled": false
   },
   "outputs": [],
   "source": [
    "G = nx.Graph()  ## Total call network graph\n",
    "ngG = nx.Graph()  ## National Govt team graph\n",
    "\n",
    "nx.from_pandas_dataframe(df, source='user_1', target='user_2', edge_attr='duration__', create_using=G)\n",
    "nx.from_pandas_dataframe(ngLoc, source='user_1', target='user_2', edge_attr='duration__', create_using=ngG)"
   ]
  },
  {
   "cell_type": "code",
   "execution_count": null,
   "metadata": {
    "scrolled": true
   },
   "outputs": [],
   "source": [
    "nodes = list(ngG.nodes()) # must cast to list to maintain compatibility between nx 1.11 and 2.0\n",
    "edges = list(ngG.edges()) \n",
    "\n",
    "pos = nx.spring_layout(ngG)\n",
    "nodes_dict = [{\"id\":n,\n",
    "              \"x\":pos[n][0]*1000,\n",
    "              \"y\":pos[n][1]*1000} for n in nodes]\n",
    "\n",
    "node_map = dict(zip(nodes,range(len(nodes))))\n",
    "\n",
    "edges_dict = [{\"source\":node_map[edges[i][0]], \"target\":node_map[edges[i][1]], \n",
    "              \"title\":'test'} for i in range(len(edges))]\n",
    "\n",
    "visJS2jupyter.visJS_module.visjs_network(nodes_dict,edges_dict)"
   ]
  },
  {
   "cell_type": "code",
   "execution_count": null,
   "metadata": {},
   "outputs": [],
   "source": [
    "from operator import itemgetter\n",
    "degree_dict = dict(ngG.degree(ngG.nodes()))\n",
    "nx.set_node_attributes(ngG, degree_dict, 'degree')\n",
    "sorted_degree = sorted(degree_dict.items(), key=itemgetter(1), reverse=True)\n",
    "    \n",
    "betweenness_dict = nx.betweenness_centrality(ngG) # Run betweenness centrality\n",
    "eigenvector_dict = nx.eigenvector_centrality(ngG) # Run eigenvector centrality\n",
    "nx.set_node_attributes(ngG, betweenness_dict, 'betweenness')\n",
    "nx.set_node_attributes(ngG, eigenvector_dict, 'eigenvector')\n",
    "\n",
    "sorted_betweenness = sorted(betweenness_dict.items(), key=itemgetter(1), reverse=True)\n",
    "\n",
    "#First get the top 5 nodes by betweenness as a list\n",
    "top_betweenness = sorted_betweenness[:25]\n",
    "\n",
    "#Then find and print their degree\n",
    "for tb in top_betweenness: # Loop through top_betweenness\n",
    "    degree = degree_dict[tb[0]] # Use degree_dict to access a node's degree\n",
    "    print(\"Name:\", tb[0], \"| Betweenness Centrality:\", tb[1], \"| Degree:\", degree)"
   ]
  },
  {
   "cell_type": "code",
   "execution_count": null,
   "metadata": {
    "scrolled": false
   },
   "outputs": [],
   "source": [
    "sourceNode = 'jeff_peters@esri.com'\n",
    "targetNode = 'twilson@esri.com'\n",
    "if sourceNode in G.nodes() and targetNode in G.nodes():\n",
    "    shortestPath = nx.shortest_path(G, source=sourceNode, target=targetNode)\n",
    "else:\n",
    "    if sourceNode not in G.nodes():\n",
    "        print(sourceNode + \" not in network.\")\n",
    "    elif targetNode not in G.nodes():\n",
    "        print(targetNode + \" not in network.\")\n",
    "print(\"Shortest Path between nodes:  \", shortestPath)"
   ]
  },
  {
   "cell_type": "code",
   "execution_count": null,
   "metadata": {},
   "outputs": [],
   "source": [
    "comNeigh = nx.common_neighbors(G, sourceNode, targetNode)\n",
    "comNeighList = list(comNeigh)\n",
    "print(comNeighList)"
   ]
  },
  {
   "cell_type": "code",
   "execution_count": null,
   "metadata": {},
   "outputs": [],
   "source": [
    "targetView = nx.degree(G, targetNode)\n",
    "sourceView = nx.degree(G, sourceNode)\n",
    "print(targetNode + \" is connected to \" + str(targetView) + \" nodes.\")\n",
    "print(sourceNode + \" is connected to \" + str(sourceView) + \" nodes.\")"
   ]
  },
  {
   "cell_type": "code",
   "execution_count": null,
   "metadata": {},
   "outputs": [],
   "source": [
    "map2 = gis.map(\"California\", zoomlevel=4)\n",
    "map2.basemap = 'gray'\n",
    "map2"
   ]
  },
  {
   "cell_type": "code",
   "execution_count": null,
   "metadata": {
    "scrolled": true
   },
   "outputs": [],
   "source": [
    "comNeighDF = df.loc[df['user_1'].isin(list(comNeighList))]\n",
    "comNeighMerge = pd.merge(comNeighDF, officeDF, left_on = 'user2_Office', right_on = 'OfficeCode')\n",
    "comNeighLyr = gis.content.import_data(comNeighMerge)\n",
    "map2.add_layer(comNeighLyr, { \"renderer\":\"ClassedSizeRenderer\", \"field_name\":\"duration__seconds_\" })"
   ]
  },
  {
   "cell_type": "code",
   "execution_count": null,
   "metadata": {
    "scrolled": false
   },
   "outputs": [],
   "source": [
    "from operator import itemgetter\n",
    "degree_dict = dict(G.degree(G.nodes()))\n",
    "nx.set_node_attributes(G, degree_dict, 'degree')\n",
    "sorted_degree = sorted(degree_dict.items(), key=itemgetter(1), reverse=True)\n",
    "print(\"Top 25 nodes by degree:\")\n",
    "for d in sorted_degree[:25]:\n",
    "    print(\"Name:\", d[0], \"| Degree:\", d[1])"
   ]
  },
  {
   "cell_type": "code",
   "execution_count": null,
   "metadata": {},
   "outputs": [],
   "source": [
    "map3 = gis.map(\"California\", zoomlevel=4)\n",
    "map3.basemap = 'gray'\n",
    "map3"
   ]
  },
  {
   "cell_type": "code",
   "execution_count": null,
   "metadata": {
    "scrolled": true
   },
   "outputs": [],
   "source": [
    "A = list(nx.find_cliques(G))\n",
    "cliques = []\n",
    "for i in A:\n",
    "    if len(i) > 2:\n",
    "        cliques.append(i)\n",
    "\n",
    "cliques[16][0]\n",
    "cliquesDF = df.loc[df['user_1'].isin(['rmallipeddi@esri.com','styagi@esri.com', 'jsuggala@esri.com']) & df['user_2'].isin(['rmallipeddi@esri.com','styagi@esri.com', 'jsuggala@esri.com'])]\n",
    "cliquesDF\n",
    "cliquesMerge = pd.merge(cliquesDF, officeDF, left_on = 'user1_Office', right_on = 'OfficeCode')\n",
    "cliquesLyr = gis.content.import_data(cliquesMerge)\n",
    "cliqueItems = gis.content.search(\"Clique Call Logs\", item_type='feature service')[0]\n",
    "map3.add_layer(cliquesLyr)\n",
    "map3.add_layer(cliqueItems)"
   ]
  },
  {
   "cell_type": "code",
   "execution_count": null,
   "metadata": {
    "scrolled": false
   },
   "outputs": [],
   "source": [
    "for i in cliques:\n",
    "    if 'jsullivan@esri.com' in i:\n",
    "            print(i)"
   ]
  },
  {
   "cell_type": "code",
   "execution_count": null,
   "metadata": {},
   "outputs": [],
   "source": []
  }
 ],
 "metadata": {
  "celltoolbar": "Edit Metadata",
  "kernelspec": {
   "display_name": "Python 3",
   "language": "python",
   "name": "python3"
  },
  "language_info": {
   "codemirror_mode": {
    "name": "ipython",
    "version": 3
   },
   "file_extension": ".py",
   "mimetype": "text/x-python",
   "name": "python",
   "nbconvert_exporter": "python",
   "pygments_lexer": "ipython3",
   "version": "3.6.2"
  }
 },
 "nbformat": 4,
 "nbformat_minor": 2
}
