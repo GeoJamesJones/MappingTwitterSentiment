{
 "cells": [
  {
   "cell_type": "code",
   "execution_count": null,
   "metadata": {},
   "outputs": [],
   "source": [
    "import pandas as pd\n",
    "import py2neo"
   ]
  },
  {
   "cell_type": "code",
   "execution_count": null,
   "metadata": {},
   "outputs": [],
   "source": [
    "from py2neo import authenticate,Graph\n",
    "\n",
    "authenticate(\"localhost:7474\", \"neo4j\", \"gis12345\")\n",
    "graph = Graph(\"http://localhost:7474/db/data/Call Data\")"
   ]
  },
  {
   "cell_type": "code",
   "execution_count": null,
   "metadata": {},
   "outputs": [],
   "source": [
    "import csv\n",
    "csvFile = r'C:\\Users\\jame9353\\Documents\\GitHub\\Plenary\\Tables\\usersDF.csv'"
   ]
  },
  {
   "cell_type": "code",
   "execution_count": null,
   "metadata": {},
   "outputs": [],
   "source": [
    "df = pd.read_csv(csvFile)"
   ]
  },
  {
   "cell_type": "code",
   "execution_count": 38,
   "metadata": {},
   "outputs": [
    {
     "name": "stdout",
     "output_type": "stream",
     "text": [
      "Added Records\n"
     ]
    }
   ],
   "source": [
    "from py2neo import Node, Relationship\n",
    "tx = graph.begin()\n",
    "for index, row in df.iterrows():\n",
    "    a = Node(\"Person\", name=row[2])\n",
    "    tx.merge(a)\n",
    "    b = Node(\"Person\", name=row[5])\n",
    "    tx.merge(b)\n",
    "    \n",
    "    #y = Node(\"IP Address\", name=row[4])\n",
    "    \n",
    "    #bDept = Node(\"Department\", name=row[6])\n",
    "    relAB = Relationship(a, \"Called\", b)\n",
    "    tx.merge(relAB)\n",
    "    \n",
    "    #relBY = Relationship(b, \"Has IP\", y)\n",
    "    \n",
    "    #relDB = Relationship(b, \"Works In\", bDept)\n",
    "tx.commit()\n",
    "print(\"Added Records\")"
   ]
  },
  {
   "cell_type": "code",
   "execution_count": 49,
   "metadata": {},
   "outputs": [],
   "source": [
    "userGroup = df[['user_1', 'CallerIPAddress', 'CallerDepartment']]\n",
    "ugDup = userGroup.drop_duplicates()\n",
    "users = ugDup.fillna('Unknown')"
   ]
  },
  {
   "cell_type": "code",
   "execution_count": 50,
   "metadata": {},
   "outputs": [
    {
     "name": "stdout",
     "output_type": "stream",
     "text": [
      "Added Records\n"
     ]
    }
   ],
   "source": [
    "tx = graph.begin()\n",
    "for index, row in users.iterrows():\n",
    "    a = Node(\"Person\", name=row[0])\n",
    "    tx.merge(a)\n",
    "    x = Node(\"IP Address\", name=row[1])\n",
    "    tx.merge(x)\n",
    "    aDept = Node(\"Department\", name=row[2])\n",
    "    tx.merge(aDept)\n",
    "    relAX = Relationship(a, \"Has IP\", x)\n",
    "    tx.merge(relAX)\n",
    "    relDA = Relationship(a, \"Works In\", aDept)\n",
    "    tx.merge(relDA)\n",
    "tx.commit()\n",
    "print(\"Added Records\")"
   ]
  },
  {
   "cell_type": "code",
   "execution_count": null,
   "metadata": {},
   "outputs": [],
   "source": []
  }
 ],
 "metadata": {
  "kernelspec": {
   "display_name": "Python 3",
   "language": "python",
   "name": "python3"
  },
  "language_info": {
   "codemirror_mode": {
    "name": "ipython",
    "version": 3
   },
   "file_extension": ".py",
   "mimetype": "text/x-python",
   "name": "python",
   "nbconvert_exporter": "python",
   "pygments_lexer": "ipython3",
   "version": "3.6.2"
  }
 },
 "nbformat": 4,
 "nbformat_minor": 2
}
